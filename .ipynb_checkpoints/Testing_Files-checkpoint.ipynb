{
 "cells": [
  {
   "cell_type": "code",
   "execution_count": 5,
   "metadata": {},
   "outputs": [],
   "source": [
    "import os\n",
    "import pandas as pd\n",
    "import numpy as np\n",
    "import matplotlib.pyplot as plt"
   ]
  },
  {
   "cell_type": "code",
   "execution_count": 10,
   "metadata": {},
   "outputs": [
    {
     "name": "stdout",
     "output_type": "stream",
     "text": [
      "75\n"
     ]
    }
   ],
   "source": [
    "excel_list = os.listdir('./data')\n",
    "print(len(excel_list))"
   ]
  },
  {
   "cell_type": "code",
   "execution_count": 27,
   "metadata": {},
   "outputs": [
    {
     "name": "stdout",
     "output_type": "stream",
     "text": [
      "2009\n",
      "2009\n",
      "2009\n",
      "2009\n",
      "2009\n",
      "2010\n",
      "2010\n",
      "2010\n",
      "2010\n",
      "2010\n",
      "2011\n",
      "2011\n",
      "2011\n",
      "2011\n",
      "2011\n",
      "2012\n",
      "2012\n",
      "2012\n",
      "2012\n",
      "2012\n",
      "2013\n",
      "2013\n",
      "2013\n",
      "2013\n",
      "2013\n",
      "2014\n",
      "2014\n",
      "2014\n",
      "2014\n",
      "2014\n",
      "2015\n",
      "2015\n",
      "2015\n",
      "2015\n",
      "2015\n",
      "2016\n",
      "2016\n",
      "2016\n",
      "2016\n",
      "2016\n",
      "2017\n",
      "2017\n",
      "2017\n",
      "2017\n",
      "2017\n",
      "2018\n",
      "2018\n",
      "2018\n",
      "2018\n",
      "2018\n",
      "2019\n",
      "2019\n",
      "2019\n",
      "2019\n",
      "2019\n",
      "sale\n",
      "sale\n",
      "sale\n",
      "sale\n",
      "sale\n",
      "sale\n",
      "sale\n",
      "sale\n",
      "sale\n",
      "sale\n",
      "sale\n",
      "sale\n",
      "sale\n",
      "sale\n",
      "sale\n",
      "sale\n",
      "sale\n",
      "sale\n",
      "sale\n",
      "sale\n",
      "DONE\n"
     ]
    }
   ],
   "source": [
    "for item in excel_list:\n",
    "    file_name = item[0:-4] + 'csv'\n",
    "    years = [\"2005\", \"2006\", \"2007\", \"2008\"]\n",
    "    print (item[0:4])\n",
    "    if (elem in years):\n",
    "        file_name = item[0:-4] + 'csv'\n",
    "        print(file_name)\n",
    "        file_path = \"./csv-files/\" + file_name\n",
    "        pd.read_excel(\"./data/\" + item).to_csv(file_path, index=False)\n",
    "print(\"DONE\")"
   ]
  },
  {
   "cell_type": "code",
   "execution_count": null,
   "metadata": {},
   "outputs": [],
   "source": []
  }
 ],
 "metadata": {
  "kernelspec": {
   "display_name": "Python 3",
   "language": "python",
   "name": "python3"
  },
  "language_info": {
   "codemirror_mode": {
    "name": "ipython",
    "version": 3
   },
   "file_extension": ".py",
   "mimetype": "text/x-python",
   "name": "python",
   "nbconvert_exporter": "python",
   "pygments_lexer": "ipython3",
   "version": "3.7.4"
  }
 },
 "nbformat": 4,
 "nbformat_minor": 2
}

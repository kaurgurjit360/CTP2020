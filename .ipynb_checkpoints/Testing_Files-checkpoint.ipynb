{
 "cells": [
  {
   "cell_type": "code",
   "execution_count": 87,
   "metadata": {},
   "outputs": [],
   "source": [
    "import os\n",
    "import csv\n",
    "import pandas as pd\n",
    "import numpy as np\n",
    "import matplotlib.pyplot as plt"
   ]
  },
  {
   "cell_type": "code",
   "execution_count": 99,
   "metadata": {},
   "outputs": [
    {
     "name": "stdout",
     "output_type": "stream",
     "text": [
      "75\n"
     ]
    }
   ],
   "source": [
    "excel_list = os.listdir('./data')\n",
    "print(len(excel_list))"
   ]
  },
  {
   "cell_type": "code",
   "execution_count": 103,
   "metadata": {},
   "outputs": [
    {
     "name": "stdout",
     "output_type": "stream",
     "text": [
      "2011_bronx.csv\n",
      "2011_brooklyn.csv\n",
      "2011_manhattan.csv\n",
      "2011_queens.csv\n",
      "2011_statenisland.csv\n",
      "2012_bronx.csv\n",
      "2012_brooklyn.csv\n",
      "2012_manhattan.csv\n",
      "2012_queens.csv\n",
      "2012_statenisland.csv\n",
      "2013_bronx.csv\n",
      "2013_brooklyn.csv\n",
      "2013_manhattan.csv\n",
      "2013_queens.csv\n",
      "2013_statenisland.csv\n",
      "2014_bronx.csv\n",
      "2014_brooklyn.csv\n",
      "2014_manhattan.csv\n",
      "2014_queens.csv\n",
      "2014_statenisland.csv\n",
      "2015_bronx.csv\n",
      "2015_brooklyn.csv\n",
      "2015_manhattan.csv\n",
      "2015_queens.csv\n",
      "2015_statenisland.csv\n",
      "2016_bronx.csv\n",
      "2016_brooklyn.csv\n",
      "2016_manhattan.csv\n",
      "2016_queens.csv\n",
      "2016_statenisland.csv\n",
      "2017_bronx.csv\n",
      "2017_brooklyn.csv\n",
      "2017_manhattan.csv\n",
      "2017_queens.csv\n",
      "2017_statenisland.csv\n",
      "2018_bronx.xcsv\n",
      "DONE\n"
     ]
    }
   ],
   "source": [
    "# for item in excel_list:\n",
    "#     file_name = item[0:-4] + 'csv'\n",
    "for i in range(65, 75):\n",
    "    file_name = excel_list[i][0:-4] + 'csv'\n",
    "    original_file_path = \"./data/\" + excel_list[i]\n",
    "    file_path = \"./csv-files/\" + file_name\n",
    "    \n",
    "    print(file_name)\n",
    "#     print(original_file_path)\n",
    "#     print(file_path)\n",
    "    \n",
    "    temp = pd.read_excel(original_file_path, skiprows=4).to_csv(file_path, index=False)# + file_name, index=False)\n",
    "\n",
    "    \n",
    "print(\"DONE\")"
   ]
  },
  {
   "cell_type": "code",
   "execution_count": null,
   "metadata": {},
   "outputs": [],
   "source": []
  },
  {
   "cell_type": "code",
   "execution_count": null,
   "metadata": {},
   "outputs": [],
   "source": []
  }
 ],
 "metadata": {
  "kernelspec": {
   "display_name": "Python 3",
   "language": "python",
   "name": "python3"
  },
  "language_info": {
   "codemirror_mode": {
    "name": "ipython",
    "version": 3
   },
   "file_extension": ".py",
   "mimetype": "text/x-python",
   "name": "python",
   "nbconvert_exporter": "python",
   "pygments_lexer": "ipython3",
   "version": "3.7.4"
  }
 },
 "nbformat": 4,
 "nbformat_minor": 2
}

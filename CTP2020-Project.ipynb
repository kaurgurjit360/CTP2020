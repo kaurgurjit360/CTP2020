{
 "cells": [
  {
   "cell_type": "code",
   "execution_count": 1,
   "metadata": {},
   "outputs": [],
   "source": [
    "import pandas as pd\n",
    "import numpy as np"
   ]
  },
  {
   "cell_type": "code",
   "execution_count": 5,
   "metadata": {},
   "outputs": [],
   "source": [
    "df = pd.read_csv('2018_citywide_sale.csv')"
   ]
  },
  {
   "cell_type": "code",
   "execution_count": 6,
   "metadata": {},
   "outputs": [
    {
     "data": {
      "text/html": [
       "<div>\n",
       "<style scoped>\n",
       "    .dataframe tbody tr th:only-of-type {\n",
       "        vertical-align: middle;\n",
       "    }\n",
       "\n",
       "    .dataframe tbody tr th {\n",
       "        vertical-align: top;\n",
       "    }\n",
       "\n",
       "    .dataframe thead th {\n",
       "        text-align: right;\n",
       "    }\n",
       "</style>\n",
       "<table border=\"1\" class=\"dataframe\">\n",
       "  <thead>\n",
       "    <tr style=\"text-align: right;\">\n",
       "      <th></th>\n",
       "      <th>BOROUGH</th>\n",
       "      <th>BUILDING CLASS CATEGORY</th>\n",
       "      <th>Unnamed: 2</th>\n",
       "      <th>Unnamed: 3</th>\n",
       "      <th>NUMBER OF SALES</th>\n",
       "      <th>MINIMUM SALE PRICE</th>\n",
       "      <th>AVERAGE SALE PRICE</th>\n",
       "      <th>MEDIAN SALE PRICE</th>\n",
       "      <th>MAXIMUM SALE PRICE</th>\n",
       "    </tr>\n",
       "  </thead>\n",
       "  <tbody>\n",
       "    <tr>\n",
       "      <th>0</th>\n",
       "      <td>Manhattan</td>\n",
       "      <td>01 ONE FAMILY HOMES</td>\n",
       "      <td>NaN</td>\n",
       "      <td>NaN</td>\n",
       "      <td>89</td>\n",
       "      <td>200000.0</td>\n",
       "      <td>8235346.0</td>\n",
       "      <td>6350000.0</td>\n",
       "      <td>41000000.0</td>\n",
       "    </tr>\n",
       "    <tr>\n",
       "      <th>1</th>\n",
       "      <td>Manhattan</td>\n",
       "      <td>02 TWO FAMILY HOMES</td>\n",
       "      <td>NaN</td>\n",
       "      <td>NaN</td>\n",
       "      <td>74</td>\n",
       "      <td>424797.0</td>\n",
       "      <td>5620562.0</td>\n",
       "      <td>3725000.0</td>\n",
       "      <td>43500000.0</td>\n",
       "    </tr>\n",
       "    <tr>\n",
       "      <th>2</th>\n",
       "      <td>Manhattan</td>\n",
       "      <td>03 THREE FAMILY HOMES</td>\n",
       "      <td>NaN</td>\n",
       "      <td>NaN</td>\n",
       "      <td>40</td>\n",
       "      <td>816425.0</td>\n",
       "      <td>5684533.0</td>\n",
       "      <td>2965000.0</td>\n",
       "      <td>27400000.0</td>\n",
       "    </tr>\n",
       "    <tr>\n",
       "      <th>3</th>\n",
       "      <td>Bronx</td>\n",
       "      <td>01 ONE FAMILY HOMES</td>\n",
       "      <td>NaN</td>\n",
       "      <td>NaN</td>\n",
       "      <td>970</td>\n",
       "      <td>200000.0</td>\n",
       "      <td>499060.0</td>\n",
       "      <td>425000.0</td>\n",
       "      <td>12303058.0</td>\n",
       "    </tr>\n",
       "    <tr>\n",
       "      <th>4</th>\n",
       "      <td>Bronx</td>\n",
       "      <td>02 TWO FAMILY HOMES</td>\n",
       "      <td>NaN</td>\n",
       "      <td>NaN</td>\n",
       "      <td>1409</td>\n",
       "      <td>200000.0</td>\n",
       "      <td>523501.0</td>\n",
       "      <td>512000.0</td>\n",
       "      <td>5400000.0</td>\n",
       "    </tr>\n",
       "  </tbody>\n",
       "</table>\n",
       "</div>"
      ],
      "text/plain": [
       "     BOROUGH BUILDING CLASS CATEGORY  Unnamed: 2  Unnamed: 3  NUMBER OF SALES  \\\n",
       "0  Manhattan     01 ONE FAMILY HOMES         NaN         NaN               89   \n",
       "1  Manhattan     02 TWO FAMILY HOMES         NaN         NaN               74   \n",
       "2  Manhattan   03 THREE FAMILY HOMES         NaN         NaN               40   \n",
       "3      Bronx     01 ONE FAMILY HOMES         NaN         NaN              970   \n",
       "4      Bronx     02 TWO FAMILY HOMES         NaN         NaN             1409   \n",
       "\n",
       "   MINIMUM SALE PRICE  AVERAGE SALE PRICE  MEDIAN SALE PRICE  \\\n",
       "0            200000.0           8235346.0          6350000.0   \n",
       "1            424797.0           5620562.0          3725000.0   \n",
       "2            816425.0           5684533.0          2965000.0   \n",
       "3            200000.0            499060.0           425000.0   \n",
       "4            200000.0            523501.0           512000.0   \n",
       "\n",
       "   MAXIMUM SALE PRICE  \n",
       "0          41000000.0  \n",
       "1          43500000.0  \n",
       "2          27400000.0  \n",
       "3          12303058.0  \n",
       "4           5400000.0  "
      ]
     },
     "execution_count": 6,
     "metadata": {},
     "output_type": "execute_result"
    }
   ],
   "source": [
    "df.head()"
   ]
  },
  {
   "cell_type": "code",
   "execution_count": null,
   "metadata": {},
   "outputs": [],
   "source": []
  }
 ],
 "metadata": {
  "kernelspec": {
   "display_name": "Python 3",
   "language": "python",
   "name": "python3"
  },
  "language_info": {
   "codemirror_mode": {
    "name": "ipython",
    "version": 3
   },
   "file_extension": ".py",
   "mimetype": "text/x-python",
   "name": "python",
   "nbconvert_exporter": "python",
   "pygments_lexer": "ipython3",
   "version": "3.7.6"
  }
 },
 "nbformat": 4,
 "nbformat_minor": 4
}

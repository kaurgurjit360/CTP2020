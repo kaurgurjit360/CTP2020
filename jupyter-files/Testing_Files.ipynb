{
 "cells": [
  {
   "cell_type": "code",
   "execution_count": 87,
   "metadata": {},
   "outputs": [],
   "source": [
    "import os\n",
    "import csv\n",
    "import pandas as pd\n",
    "import numpy as np\n",
    "import matplotlib.pyplot as plt"
   ]
  },
  {
   "cell_type": "code",
   "execution_count": 99,
   "metadata": {},
   "outputs": [
    {
     "name": "stdout",
     "output_type": "stream",
     "text": [
      "75\n"
     ]
    }
   ],
   "source": [
    "excel_list = os.listdir('./data')\n",
    "print(len(excel_list))"
   ]
  },
  {
   "cell_type": "code",
   "execution_count": 104,
   "metadata": {},
   "outputs": [
    {
     "name": "stdout",
     "output_type": "stream",
     "text": [
      "2018_bronx.csv\n",
      "2018_brooklyn.csv\n",
      "2018_manhattan.csv\n",
      "2018_queens.csv\n",
      "2018_statenisland.csv\n",
      "2019_bronx.csv\n",
      "2019_brooklyn.csv\n",
      "2019_manhattan.csv\n",
      "2019_queens.csv\n",
      "2019_statenisland.csv\n",
      "DONE\n"
     ]
    }
   ],
   "source": [
    "# for item in excel_list:\n",
    "#     file_name = item[0:-4] + 'csv'\n",
    "for i in range(65, 75):\n",
    "    file_name = excel_list[i][0:-4] + 'csv'\n",
    "    original_file_path = \"./data/\" + excel_list[i]\n",
    "    file_path = \"./csv-files/\" + file_name\n",
    "    \n",
    "    print(file_name)\n",
    "#     print(original_file_path)\n",
    "#     print(file_path)\n",
    "    \n",
    "    temp = pd.read_excel(original_file_path, skiprows=4).to_csv(file_path, index=False)# + file_name, index=False)\n",
    "\n",
    "    \n",
    "print(\"DONE\")"
   ]
  },
  {
   "cell_type": "code",
   "execution_count": null,
   "metadata": {},
   "outputs": [],
   "source": []
  },
  {
   "cell_type": "code",
   "execution_count": null,
   "metadata": {},
   "outputs": [],
   "source": []
  }
 ],
 "metadata": {
  "kernelspec": {
   "display_name": "Python 3",
   "language": "python",
   "name": "python3"
  },
  "language_info": {
   "codemirror_mode": {
    "name": "ipython",
    "version": 3
   },
   "file_extension": ".py",
   "mimetype": "text/x-python",
   "name": "python",
   "nbconvert_exporter": "python",
   "pygments_lexer": "ipython3",
   "version": "3.7.4"
  }
 },
 "nbformat": 4,
 "nbformat_minor": 2
}

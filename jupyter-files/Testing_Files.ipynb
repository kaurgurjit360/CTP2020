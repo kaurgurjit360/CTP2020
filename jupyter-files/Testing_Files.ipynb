{
 "cells": [
  {
   "cell_type": "code",
   "execution_count": 12,
   "metadata": {},
   "outputs": [],
   "source": [
    "import os\n",
    "import csv\n",
    "import math\n",
    "import pandas as pd\n",
    "import numpy as np\n",
    "import matplotlib.pyplot as plt"
   ]
  },
  {
   "cell_type": "code",
   "execution_count": 3,
   "metadata": {},
   "outputs": [],
   "source": [
    "# SCRIPT USED TO CLEAN THE DATA\n",
    "#\n",
    "#\n",
    "## Make sure path is correct\n",
    "# excel_list = os.listdir('./data')\n",
    "# print(len(excel_list))\n",
    "#\n",
    "# for i in range(65, 75):\n",
    "#     file_name = excel_list[i][0:-4] + 'csv'\n",
    "#     original_file_path = \"./data/\" + excel_list[i]\n",
    "#     file_path = \"./csv-files/\" + file_name\n",
    "    \n",
    "#     print(file_name)\n",
    "# #     print(original_file_path)\n",
    "# #     print(file_path)\n",
    "    \n",
    "#     temp = pd.read_excel(original_file_path, skiprows=4).to_csv(file_path, index=False)# + file_name, index=False)\n",
    "    \n",
    "# print(\"DONE\")"
   ]
  },
  {
   "cell_type": "code",
   "execution_count": 31,
   "metadata": {},
   "outputs": [],
   "source": [
    "bk_05 = pd.read_csv(\"../data/csv-files/2005_brooklyn.csv\")\n",
    "bk_06 = pd.read_csv(\"../data/csv-files/2006_brooklyn.csv\")\n",
    "bk_07 = pd.read_csv(\"../data/csv-files/2007_brooklyn.csv\")\n",
    "bk_08 = pd.read_csv(\"../data/csv-files/2008_brooklyn.csv\")\n",
    "bk_09 = pd.read_csv(\"../data/csv-files/2009_brooklyn.csv\")\n",
    "\n",
    "zipcodes = pd.read_csv(\"../data/zipcodes.csv\")"
   ]
  },
  {
   "cell_type": "code",
   "execution_count": 77,
   "metadata": {},
   "outputs": [],
   "source": [
    "# Gathering total zipcodes from each borough. Each zipcode will be a row in the formatted csv\n",
    "\n",
    "\n",
    "nyc_zips = zipcodes.loc[(zipcodes['State'] == 'NY')]\n",
    "\n",
    "list_of_boroughs = ['BROOKLYN', 'BRONX', 'QUEENS', 'MANHATTAN', 'STATEN ISLAND']\n",
    "list_of_zipcodes = {}\n",
    "zipcodes_per_borough = {}\n",
    "df = {}\n",
    "\n",
    "for borough in list_of_boroughs:\n",
    "    df[borough] = zipcodes.loc[(zipcodes['City'] == borough) & (zipcodes['ZipCodeType'] == 'STANDARD')]\n",
    "    zipcodes_per_borough[borough] = list(df[borough]['Zipcode'].unique())\n",
    "\n",
    "    # Cleaned up the zipcodes \n",
    "    i = 0\n",
    "    size = len(zipcodes_per_borough[borough])\n",
    "    while (i < size):\n",
    "        if zipcodes_per_borough[borough][i] < 10000 or zipcodes_per_borough[borough][i] > 13000:\n",
    "            zipcodes_per_borough[borough].remove(zipcodes_per_borough[borough][i])\n",
    "            size = len(zipcodes_per_borough[borough])\n",
    "            continue\n",
    "        i = i+1\n",
    "    \n",
    "#     print(f'{borough}: {zipcodes_per_borough[borough]}')\n",
    "#     print(f'length: {len(zipcodes_per_borough[borough])}')\n",
    "\n",
    "# print(zipcodes_per_borough)\n"
   ]
  },
  {
   "cell_type": "code",
   "execution_count": null,
   "metadata": {},
   "outputs": [],
   "source": [
    "# Creating a CSV file to hold the averages of the sales of homes throughout the years\n",
    "\n",
    "new_file_name = '../data/zipcode_averages_' +  + '.csv'\n",
    "\n",
    "with open(new_file_name, 'a+', newline='') as file:"
   ]
  },
  {
   "cell_type": "code",
   "execution_count": 26,
   "metadata": {},
   "outputs": [
    {
     "name": "stdout",
     "output_type": "stream",
     "text": [
      "unique_zipcodes 05: 37\n",
      "unique_zipcodes 06: 38\n",
      "unique_zipcodes 07: 39\n",
      "unique_zipcodes 08: [11228, 11214, 11220, 11209, 11206, 11221, 11233, 11213, 11205, 11216, 11238, 11211, 11212, 11204, 11219, 11234, 11201, 11217, 11218, 11230, 11232, 0, 11235, 11225, 11215, 11207, 11237, 11236, 11239, 11231, 11224, 33803, 11226, 11208, 11416, 11210, 11203, 11243, 11229, 11223, 11222]\n",
      "unique_zipcodes 09: 40\n"
     ]
    }
   ],
   "source": [
    "column_name = \"ZIP CODE\"\n",
    "\n",
    "\n",
    "\n",
    "unique_zipcodes5 = list(bk_05['ZIP CODE'].unique())\n",
    "print(f'unique_zipcodes 05: {len(unique_zipcodes)}')\n",
    "\n",
    "unique_zipcodes6 = list(bk_06['ZIP CODE'].unique())\n",
    "print(f'unique_zipcodes 06: {len(unique_zipcodes6)}')\n",
    "\n",
    "unique_zipcodes7 = list(bk_07['ZIP CODE'].unique())\n",
    "print(f'unique_zipcodes 07: {len(unique_zipcodes7)}')\n",
    "\n",
    "unique_zipcodes8 = list(bk_08['ZIP CODE'].unique())\n",
    "print(f'unique_zipcodes 08: {(unique_zipcodes8)}')\n",
    "\n",
    "unique_zipcodes9 = list(bk_09['ZIP CODE'].unique())\n",
    "print(f'unique_zipcodes 09: {len(unique_zipcodes9)}')"
   ]
  },
  {
   "cell_type": "code",
   "execution_count": 24,
   "metadata": {},
   "outputs": [
    {
     "name": "stdout",
     "output_type": "stream",
     "text": [
      "[11228, 11214, 11220, 11209, 11206, 11221, 11233, 11213, 11205, 11216, 11238, 11211, 11212, 11204, 11219, 11234, 11201, 11217, 11218, 11230, 11232, 11235, 11225, 11215, 11207, 11237, 11236, 11239, 11231, 11224, 11226, 11208, 11416, 11210, 11203, 11243, 11229, 11223, 11222]\n",
      "39\n"
     ]
    }
   ],
   "source": [
    "# Gets rid of the garbage values\n",
    "\n",
    "for elem in unique_zipcodes8:\n",
    "    if elem < 10000 or elem > 19999:\n",
    "        unique_zipcodes8.remove(elem)\n",
    "print(unique_zipcodes8)\n",
    "print(len(unique_zipcodes8))"
   ]
  },
  {
   "cell_type": "code",
   "execution_count": 18,
   "metadata": {},
   "outputs": [
    {
     "name": "stdout",
     "output_type": "stream",
     "text": [
      "595056.38\n"
     ]
    }
   ],
   "source": [
    "# Grabbing rows based on zipcode and making sure the sale price is >$100k\n",
    "\n",
    "zipcode1 = bk_05.loc[(bk_05['ZIP CODE'] == 11214) & (bk_05['SALE PRICE'] > 99999)]\n",
    "avg_raw = zipcode1['SALE PRICE'].mean()\n",
    "avg_rounded = np.round(avg, decimals=2)\n",
    "print(avg_rounded)"
   ]
  },
  {
   "cell_type": "code",
   "execution_count": null,
   "metadata": {},
   "outputs": [],
   "source": []
  }
 ],
 "metadata": {
  "kernelspec": {
   "display_name": "Python 3",
   "language": "python",
   "name": "python3"
  },
  "language_info": {
   "codemirror_mode": {
    "name": "ipython",
    "version": 3
   },
   "file_extension": ".py",
   "mimetype": "text/x-python",
   "name": "python",
   "nbconvert_exporter": "python",
   "pygments_lexer": "ipython3",
   "version": "3.7.4"
  }
 },
 "nbformat": 4,
 "nbformat_minor": 2
}
